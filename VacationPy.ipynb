{
 "cells": [
  {
   "cell_type": "code",
   "execution_count": 1,
   "id": "a000b48e",
   "metadata": {},
   "outputs": [],
   "source": [
    "# Import the dependencies.\n",
    "import pandas as pd\n",
    "import gmaps\n",
    "import requests\n",
    "# Import the API key.\n",
    "from config import g_key"
   ]
  },
  {
   "cell_type": "code",
   "execution_count": 2,
   "id": "15070d12",
   "metadata": {},
   "outputs": [
    {
     "data": {
      "text/html": [
       "<div>\n",
       "<style scoped>\n",
       "    .dataframe tbody tr th:only-of-type {\n",
       "        vertical-align: middle;\n",
       "    }\n",
       "\n",
       "    .dataframe tbody tr th {\n",
       "        vertical-align: top;\n",
       "    }\n",
       "\n",
       "    .dataframe thead th {\n",
       "        text-align: right;\n",
       "    }\n",
       "</style>\n",
       "<table border=\"1\" class=\"dataframe\">\n",
       "  <thead>\n",
       "    <tr style=\"text-align: right;\">\n",
       "      <th></th>\n",
       "      <th>City_ID</th>\n",
       "      <th>City</th>\n",
       "      <th>Country</th>\n",
       "      <th>Date</th>\n",
       "      <th>Lat</th>\n",
       "      <th>Lng</th>\n",
       "      <th>Max Temp</th>\n",
       "      <th>Humidity</th>\n",
       "      <th>Cloudiness</th>\n",
       "      <th>Wind Speed</th>\n",
       "    </tr>\n",
       "  </thead>\n",
       "  <tbody>\n",
       "    <tr>\n",
       "      <th>0</th>\n",
       "      <td>0</td>\n",
       "      <td>Bengkulu</td>\n",
       "      <td>ID</td>\n",
       "      <td>2021-05-22 03:32:45</td>\n",
       "      <td>-3.8004</td>\n",
       "      <td>102.2655</td>\n",
       "      <td>76.98</td>\n",
       "      <td>85</td>\n",
       "      <td>100</td>\n",
       "      <td>3.87</td>\n",
       "    </tr>\n",
       "    <tr>\n",
       "      <th>1</th>\n",
       "      <td>1</td>\n",
       "      <td>Hasaki</td>\n",
       "      <td>JP</td>\n",
       "      <td>2021-05-22 03:32:45</td>\n",
       "      <td>35.7333</td>\n",
       "      <td>140.8333</td>\n",
       "      <td>70.20</td>\n",
       "      <td>77</td>\n",
       "      <td>100</td>\n",
       "      <td>19.73</td>\n",
       "    </tr>\n",
       "    <tr>\n",
       "      <th>2</th>\n",
       "      <td>2</td>\n",
       "      <td>Narsaq</td>\n",
       "      <td>GL</td>\n",
       "      <td>2021-05-22 03:32:45</td>\n",
       "      <td>60.9167</td>\n",
       "      <td>-46.0500</td>\n",
       "      <td>34.02</td>\n",
       "      <td>85</td>\n",
       "      <td>97</td>\n",
       "      <td>5.64</td>\n",
       "    </tr>\n",
       "    <tr>\n",
       "      <th>3</th>\n",
       "      <td>3</td>\n",
       "      <td>Santa Fe</td>\n",
       "      <td>AR</td>\n",
       "      <td>2021-05-22 03:32:46</td>\n",
       "      <td>-31.6333</td>\n",
       "      <td>-60.7000</td>\n",
       "      <td>55.02</td>\n",
       "      <td>93</td>\n",
       "      <td>97</td>\n",
       "      <td>4.00</td>\n",
       "    </tr>\n",
       "    <tr>\n",
       "      <th>4</th>\n",
       "      <td>4</td>\n",
       "      <td>Busselton</td>\n",
       "      <td>AU</td>\n",
       "      <td>2021-05-22 03:32:46</td>\n",
       "      <td>-33.6500</td>\n",
       "      <td>115.3333</td>\n",
       "      <td>62.10</td>\n",
       "      <td>86</td>\n",
       "      <td>100</td>\n",
       "      <td>18.25</td>\n",
       "    </tr>\n",
       "  </tbody>\n",
       "</table>\n",
       "</div>"
      ],
      "text/plain": [
       "   City_ID       City Country                 Date      Lat       Lng  \\\n",
       "0        0   Bengkulu      ID  2021-05-22 03:32:45  -3.8004  102.2655   \n",
       "1        1     Hasaki      JP  2021-05-22 03:32:45  35.7333  140.8333   \n",
       "2        2     Narsaq      GL  2021-05-22 03:32:45  60.9167  -46.0500   \n",
       "3        3   Santa Fe      AR  2021-05-22 03:32:46 -31.6333  -60.7000   \n",
       "4        4  Busselton      AU  2021-05-22 03:32:46 -33.6500  115.3333   \n",
       "\n",
       "   Max Temp  Humidity  Cloudiness  Wind Speed  \n",
       "0     76.98        85         100        3.87  \n",
       "1     70.20        77         100       19.73  \n",
       "2     34.02        85          97        5.64  \n",
       "3     55.02        93          97        4.00  \n",
       "4     62.10        86         100       18.25  "
      ]
     },
     "execution_count": 2,
     "metadata": {},
     "output_type": "execute_result"
    }
   ],
   "source": [
    "# Store the CSV you saved created in part one into a DataFrame.\n",
    "city_data_df = pd.read_csv(\"weather_data/cities.csv\")\n",
    "city_data_df.head()"
   ]
  },
  {
   "cell_type": "code",
   "execution_count": 3,
   "id": "05cdb75e",
   "metadata": {},
   "outputs": [
    {
     "data": {
      "text/plain": [
       "City_ID         int64\n",
       "City           object\n",
       "Country        object\n",
       "Date           object\n",
       "Lat           float64\n",
       "Lng           float64\n",
       "Max Temp      float64\n",
       "Humidity        int64\n",
       "Cloudiness      int64\n",
       "Wind Speed    float64\n",
       "dtype: object"
      ]
     },
     "execution_count": 3,
     "metadata": {},
     "output_type": "execute_result"
    }
   ],
   "source": [
    "city_data_df.dtypes"
   ]
  },
  {
   "cell_type": "code",
   "execution_count": 4,
   "id": "1dbc82f6",
   "metadata": {},
   "outputs": [],
   "source": [
    "# Configure gmaps to use your Google API key.\n",
    "gmaps.configure(api_key=g_key)"
   ]
  },
  {
   "cell_type": "code",
   "execution_count": 5,
   "id": "34b58c74",
   "metadata": {},
   "outputs": [
    {
     "data": {
      "application/vnd.jupyter.widget-view+json": {
       "model_id": "f0f0fdee1bcb4696b54f033b355429b5",
       "version_major": 2,
       "version_minor": 0
      },
      "text/plain": [
       "Figure(layout=FigureLayout(height='420px'))"
      ]
     },
     "metadata": {},
     "output_type": "display_data"
    }
   ],
   "source": [
    "# Heatmap of temperature\n",
    "# Get the latitude and longitude.\n",
    "locations = city_data_df[[\"Lat\", \"Lng\"]]\n",
    "# Get the maximum temperature.\n",
    "max_temp = city_data_df[\"Max Temp\"]\n",
    "# Assign the figure variable.\n",
    "fig = gmaps.figure()\n",
    "# Assign the heatmap variable.\n",
    "heat_layer = gmaps.heatmap_layer(locations, weights=max_temp)\n",
    "# Add the heatmap layer.\n",
    "fig.add_layer(heat_layer)\n",
    "# Call the figure to plot the data.\n",
    "fig"
   ]
  },
  {
   "cell_type": "code",
   "execution_count": 6,
   "id": "2d076c33",
   "metadata": {},
   "outputs": [],
   "source": [
    "# Get the maximum temperature.\n",
    "max_temp = city_data_df[\"Max Temp\"]\n",
    "temps = []\n",
    "for temp in max_temp:\n",
    "    temps.append(max(temp, 0))"
   ]
  },
  {
   "cell_type": "code",
   "execution_count": 7,
   "id": "e421bf5b",
   "metadata": {},
   "outputs": [],
   "source": [
    "heat_layer = gmaps.heatmap_layer(locations, weights=temps)"
   ]
  },
  {
   "cell_type": "code",
   "execution_count": 8,
   "id": "4f07f5f8",
   "metadata": {},
   "outputs": [
    {
     "data": {
      "application/vnd.jupyter.widget-view+json": {
       "model_id": "f0f0fdee1bcb4696b54f033b355429b5",
       "version_major": 2,
       "version_minor": 0
      },
      "text/plain": [
       "Figure(layout=FigureLayout(height='420px'))"
      ]
     },
     "metadata": {},
     "output_type": "display_data"
    }
   ],
   "source": [
    "fig.add_layer(heat_layer)\n",
    "fig"
   ]
  },
  {
   "cell_type": "code",
   "execution_count": 9,
   "id": "3f939484",
   "metadata": {},
   "outputs": [],
   "source": [
    "fig = gmaps.figure(center=(30.0, 31.0), zoom_level=1.5)"
   ]
  },
  {
   "cell_type": "code",
   "execution_count": 11,
   "id": "d4f02c90",
   "metadata": {},
   "outputs": [
    {
     "data": {
      "application/vnd.jupyter.widget-view+json": {
       "model_id": "d64ebe2f00fa4563a8af86c018b1da53",
       "version_major": 2,
       "version_minor": 0
      },
      "text/plain": [
       "Figure(layout=FigureLayout(height='420px'))"
      ]
     },
     "metadata": {},
     "output_type": "display_data"
    }
   ],
   "source": [
    "fig.add_layer(heat_layer)\n",
    "fig"
   ]
  },
  {
   "cell_type": "code",
   "execution_count": 12,
   "id": "378c5219",
   "metadata": {},
   "outputs": [],
   "source": [
    "heat_layer = gmaps.heatmap_layer(locations, weights=temps, dissipating=False, max_intensity=300, point_radius=4)"
   ]
  },
  {
   "cell_type": "code",
   "execution_count": 13,
   "id": "089bce81",
   "metadata": {},
   "outputs": [
    {
     "data": {
      "application/vnd.jupyter.widget-view+json": {
       "model_id": "d64ebe2f00fa4563a8af86c018b1da53",
       "version_major": 2,
       "version_minor": 0
      },
      "text/plain": [
       "Figure(layout=FigureLayout(height='420px'))"
      ]
     },
     "metadata": {},
     "output_type": "display_data"
    }
   ],
   "source": [
    "fig.add_layer(heat_layer)\n",
    "fig"
   ]
  },
  {
   "cell_type": "code",
   "execution_count": 14,
   "id": "9704227d",
   "metadata": {},
   "outputs": [
    {
     "data": {
      "application/vnd.jupyter.widget-view+json": {
       "model_id": "c6e785fbc0b74b35a4b487622c98176b",
       "version_major": 2,
       "version_minor": 0
      },
      "text/plain": [
       "Figure(layout=FigureLayout(height='420px'))"
      ]
     },
     "metadata": {},
     "output_type": "display_data"
    }
   ],
   "source": [
    "# Heatmap of percent humidity\n",
    "locations = city_data_df[[\"Lat\", \"Lng\"]]\n",
    "humidity = city_data_df[\"Humidity\"]\n",
    "fig = gmaps.figure(center=(30.0, 31.0), zoom_level=1.5)\n",
    "heat_layer = gmaps.heatmap_layer(locations, weights=humidity, dissipating=False, max_intensity=300, point_radius=4)\n",
    "\n",
    "fig.add_layer(heat_layer)\n",
    "# Call the figure to plot the data.\n",
    "fig"
   ]
  },
  {
   "cell_type": "code",
   "execution_count": 15,
   "id": "bc4f7e75",
   "metadata": {},
   "outputs": [
    {
     "name": "stdout",
     "output_type": "stream",
     "text": [
      "What is the minimum temperature you would like for your trip? 75\n",
      "What is the maximum temperature you would like for your trip? 90\n"
     ]
    }
   ],
   "source": [
    "# Ask the customer to add a minimum and maximum temperature value.\n",
    "min_temp = float(input(\"What is the minimum temperature you would like for your trip? \"))\n",
    "max_temp = float(input(\"What is the maximum temperature you would like for your trip? \"))"
   ]
  },
  {
   "cell_type": "code",
   "execution_count": 16,
   "id": "b6f73ba1",
   "metadata": {},
   "outputs": [
    {
     "data": {
      "text/html": [
       "<div>\n",
       "<style scoped>\n",
       "    .dataframe tbody tr th:only-of-type {\n",
       "        vertical-align: middle;\n",
       "    }\n",
       "\n",
       "    .dataframe tbody tr th {\n",
       "        vertical-align: top;\n",
       "    }\n",
       "\n",
       "    .dataframe thead th {\n",
       "        text-align: right;\n",
       "    }\n",
       "</style>\n",
       "<table border=\"1\" class=\"dataframe\">\n",
       "  <thead>\n",
       "    <tr style=\"text-align: right;\">\n",
       "      <th></th>\n",
       "      <th>City_ID</th>\n",
       "      <th>City</th>\n",
       "      <th>Country</th>\n",
       "      <th>Date</th>\n",
       "      <th>Lat</th>\n",
       "      <th>Lng</th>\n",
       "      <th>Max Temp</th>\n",
       "      <th>Humidity</th>\n",
       "      <th>Cloudiness</th>\n",
       "      <th>Wind Speed</th>\n",
       "    </tr>\n",
       "  </thead>\n",
       "  <tbody>\n",
       "    <tr>\n",
       "      <th>0</th>\n",
       "      <td>0</td>\n",
       "      <td>Bengkulu</td>\n",
       "      <td>ID</td>\n",
       "      <td>2021-05-22 03:32:45</td>\n",
       "      <td>-3.8004</td>\n",
       "      <td>102.2655</td>\n",
       "      <td>76.98</td>\n",
       "      <td>85</td>\n",
       "      <td>100</td>\n",
       "      <td>3.87</td>\n",
       "    </tr>\n",
       "    <tr>\n",
       "      <th>6</th>\n",
       "      <td>6</td>\n",
       "      <td>Santa Marta</td>\n",
       "      <td>CO</td>\n",
       "      <td>2021-05-22 03:31:53</td>\n",
       "      <td>11.2408</td>\n",
       "      <td>-74.1990</td>\n",
       "      <td>86.05</td>\n",
       "      <td>83</td>\n",
       "      <td>75</td>\n",
       "      <td>6.85</td>\n",
       "    </tr>\n",
       "    <tr>\n",
       "      <th>11</th>\n",
       "      <td>11</td>\n",
       "      <td>Padang</td>\n",
       "      <td>ID</td>\n",
       "      <td>2021-05-22 03:30:40</td>\n",
       "      <td>-0.9492</td>\n",
       "      <td>100.3543</td>\n",
       "      <td>84.25</td>\n",
       "      <td>67</td>\n",
       "      <td>92</td>\n",
       "      <td>3.89</td>\n",
       "    </tr>\n",
       "    <tr>\n",
       "      <th>15</th>\n",
       "      <td>15</td>\n",
       "      <td>Wahiawa</td>\n",
       "      <td>US</td>\n",
       "      <td>2021-05-22 03:32:49</td>\n",
       "      <td>21.5028</td>\n",
       "      <td>-158.0236</td>\n",
       "      <td>79.12</td>\n",
       "      <td>61</td>\n",
       "      <td>1</td>\n",
       "      <td>19.57</td>\n",
       "    </tr>\n",
       "    <tr>\n",
       "      <th>16</th>\n",
       "      <td>16</td>\n",
       "      <td>Buchanan</td>\n",
       "      <td>LR</td>\n",
       "      <td>2021-05-22 03:32:49</td>\n",
       "      <td>5.8808</td>\n",
       "      <td>-10.0467</td>\n",
       "      <td>75.16</td>\n",
       "      <td>85</td>\n",
       "      <td>78</td>\n",
       "      <td>0.51</td>\n",
       "    </tr>\n",
       "    <tr>\n",
       "      <th>18</th>\n",
       "      <td>18</td>\n",
       "      <td>Kavaratti</td>\n",
       "      <td>IN</td>\n",
       "      <td>2021-05-22 03:32:50</td>\n",
       "      <td>10.5669</td>\n",
       "      <td>72.6420</td>\n",
       "      <td>82.56</td>\n",
       "      <td>74</td>\n",
       "      <td>93</td>\n",
       "      <td>5.61</td>\n",
       "    </tr>\n",
       "    <tr>\n",
       "      <th>21</th>\n",
       "      <td>21</td>\n",
       "      <td>Samarai</td>\n",
       "      <td>PG</td>\n",
       "      <td>2021-05-22 03:32:51</td>\n",
       "      <td>-10.6167</td>\n",
       "      <td>150.6667</td>\n",
       "      <td>80.20</td>\n",
       "      <td>81</td>\n",
       "      <td>85</td>\n",
       "      <td>20.13</td>\n",
       "    </tr>\n",
       "    <tr>\n",
       "      <th>25</th>\n",
       "      <td>25</td>\n",
       "      <td>Daru</td>\n",
       "      <td>PG</td>\n",
       "      <td>2021-05-22 03:32:52</td>\n",
       "      <td>-9.0763</td>\n",
       "      <td>143.2092</td>\n",
       "      <td>79.09</td>\n",
       "      <td>88</td>\n",
       "      <td>90</td>\n",
       "      <td>17.27</td>\n",
       "    </tr>\n",
       "    <tr>\n",
       "      <th>30</th>\n",
       "      <td>30</td>\n",
       "      <td>Atuona</td>\n",
       "      <td>PF</td>\n",
       "      <td>2021-05-22 03:32:54</td>\n",
       "      <td>-9.8000</td>\n",
       "      <td>-139.0333</td>\n",
       "      <td>80.04</td>\n",
       "      <td>71</td>\n",
       "      <td>21</td>\n",
       "      <td>18.23</td>\n",
       "    </tr>\n",
       "    <tr>\n",
       "      <th>31</th>\n",
       "      <td>31</td>\n",
       "      <td>Labuhan</td>\n",
       "      <td>ID</td>\n",
       "      <td>2021-05-22 03:32:54</td>\n",
       "      <td>-6.8844</td>\n",
       "      <td>112.2051</td>\n",
       "      <td>87.13</td>\n",
       "      <td>63</td>\n",
       "      <td>20</td>\n",
       "      <td>2.66</td>\n",
       "    </tr>\n",
       "  </tbody>\n",
       "</table>\n",
       "</div>"
      ],
      "text/plain": [
       "    City_ID         City Country                 Date      Lat       Lng  \\\n",
       "0         0     Bengkulu      ID  2021-05-22 03:32:45  -3.8004  102.2655   \n",
       "6         6  Santa Marta      CO  2021-05-22 03:31:53  11.2408  -74.1990   \n",
       "11       11       Padang      ID  2021-05-22 03:30:40  -0.9492  100.3543   \n",
       "15       15      Wahiawa      US  2021-05-22 03:32:49  21.5028 -158.0236   \n",
       "16       16     Buchanan      LR  2021-05-22 03:32:49   5.8808  -10.0467   \n",
       "18       18    Kavaratti      IN  2021-05-22 03:32:50  10.5669   72.6420   \n",
       "21       21      Samarai      PG  2021-05-22 03:32:51 -10.6167  150.6667   \n",
       "25       25         Daru      PG  2021-05-22 03:32:52  -9.0763  143.2092   \n",
       "30       30       Atuona      PF  2021-05-22 03:32:54  -9.8000 -139.0333   \n",
       "31       31      Labuhan      ID  2021-05-22 03:32:54  -6.8844  112.2051   \n",
       "\n",
       "    Max Temp  Humidity  Cloudiness  Wind Speed  \n",
       "0      76.98        85         100        3.87  \n",
       "6      86.05        83          75        6.85  \n",
       "11     84.25        67          92        3.89  \n",
       "15     79.12        61           1       19.57  \n",
       "16     75.16        85          78        0.51  \n",
       "18     82.56        74          93        5.61  \n",
       "21     80.20        81          85       20.13  \n",
       "25     79.09        88          90       17.27  \n",
       "30     80.04        71          21       18.23  \n",
       "31     87.13        63          20        2.66  "
      ]
     },
     "execution_count": 16,
     "metadata": {},
     "output_type": "execute_result"
    }
   ],
   "source": [
    "# Filter the dataset to find the cities that fit the criteria.\n",
    "preferred_cities_df = city_data_df.loc[(city_data_df[\"Max Temp\"] <= max_temp) & \\\n",
    "                                       (city_data_df[\"Max Temp\"] >= min_temp)]\n",
    "preferred_cities_df.head(10)"
   ]
  },
  {
   "cell_type": "code",
   "execution_count": 19,
   "id": "5a0d3d21",
   "metadata": {},
   "outputs": [
    {
     "data": {
      "text/plain": [
       "City_ID       168\n",
       "City          168\n",
       "Country       168\n",
       "Date          168\n",
       "Lat           168\n",
       "Lng           168\n",
       "Max Temp      168\n",
       "Humidity      168\n",
       "Cloudiness    168\n",
       "Wind Speed    168\n",
       "dtype: int64"
      ]
     },
     "execution_count": 19,
     "metadata": {},
     "output_type": "execute_result"
    }
   ],
   "source": [
    "preferred_cities_df.count()"
   ]
  },
  {
   "cell_type": "code",
   "execution_count": 20,
   "id": "f221c5c0",
   "metadata": {},
   "outputs": [
    {
     "data": {
      "text/plain": [
       "City_ID       0\n",
       "City          0\n",
       "Country       0\n",
       "Date          0\n",
       "Lat           0\n",
       "Lng           0\n",
       "Max Temp      0\n",
       "Humidity      0\n",
       "Cloudiness    0\n",
       "Wind Speed    0\n",
       "dtype: int64"
      ]
     },
     "execution_count": 20,
     "metadata": {},
     "output_type": "execute_result"
    }
   ],
   "source": [
    "preferred_cities_df.isnull().sum()"
   ]
  },
  {
   "cell_type": "code",
   "execution_count": 21,
   "id": "665cc48d",
   "metadata": {},
   "outputs": [
    {
     "data": {
      "text/plain": [
       "City_ID       168\n",
       "City          168\n",
       "Country       168\n",
       "Date          168\n",
       "Lat           168\n",
       "Lng           168\n",
       "Max Temp      168\n",
       "Humidity      168\n",
       "Cloudiness    168\n",
       "Wind Speed    168\n",
       "dtype: int64"
      ]
     },
     "execution_count": 21,
     "metadata": {},
     "output_type": "execute_result"
    }
   ],
   "source": [
    "preferred_cities_df.notnull().sum()"
   ]
  },
  {
   "cell_type": "code",
   "execution_count": 22,
   "id": "356bff70",
   "metadata": {},
   "outputs": [
    {
     "data": {
      "text/html": [
       "<div>\n",
       "<style scoped>\n",
       "    .dataframe tbody tr th:only-of-type {\n",
       "        vertical-align: middle;\n",
       "    }\n",
       "\n",
       "    .dataframe tbody tr th {\n",
       "        vertical-align: top;\n",
       "    }\n",
       "\n",
       "    .dataframe thead th {\n",
       "        text-align: right;\n",
       "    }\n",
       "</style>\n",
       "<table border=\"1\" class=\"dataframe\">\n",
       "  <thead>\n",
       "    <tr style=\"text-align: right;\">\n",
       "      <th></th>\n",
       "      <th>City</th>\n",
       "      <th>Country</th>\n",
       "      <th>Max Temp</th>\n",
       "      <th>Lat</th>\n",
       "      <th>Lng</th>\n",
       "      <th>Hotel Name</th>\n",
       "    </tr>\n",
       "  </thead>\n",
       "  <tbody>\n",
       "    <tr>\n",
       "      <th>0</th>\n",
       "      <td>Bengkulu</td>\n",
       "      <td>ID</td>\n",
       "      <td>76.98</td>\n",
       "      <td>-3.8004</td>\n",
       "      <td>102.2655</td>\n",
       "      <td></td>\n",
       "    </tr>\n",
       "    <tr>\n",
       "      <th>6</th>\n",
       "      <td>Santa Marta</td>\n",
       "      <td>CO</td>\n",
       "      <td>86.05</td>\n",
       "      <td>11.2408</td>\n",
       "      <td>-74.1990</td>\n",
       "      <td></td>\n",
       "    </tr>\n",
       "    <tr>\n",
       "      <th>11</th>\n",
       "      <td>Padang</td>\n",
       "      <td>ID</td>\n",
       "      <td>84.25</td>\n",
       "      <td>-0.9492</td>\n",
       "      <td>100.3543</td>\n",
       "      <td></td>\n",
       "    </tr>\n",
       "    <tr>\n",
       "      <th>15</th>\n",
       "      <td>Wahiawa</td>\n",
       "      <td>US</td>\n",
       "      <td>79.12</td>\n",
       "      <td>21.5028</td>\n",
       "      <td>-158.0236</td>\n",
       "      <td></td>\n",
       "    </tr>\n",
       "    <tr>\n",
       "      <th>16</th>\n",
       "      <td>Buchanan</td>\n",
       "      <td>LR</td>\n",
       "      <td>75.16</td>\n",
       "      <td>5.8808</td>\n",
       "      <td>-10.0467</td>\n",
       "      <td></td>\n",
       "    </tr>\n",
       "    <tr>\n",
       "      <th>18</th>\n",
       "      <td>Kavaratti</td>\n",
       "      <td>IN</td>\n",
       "      <td>82.56</td>\n",
       "      <td>10.5669</td>\n",
       "      <td>72.6420</td>\n",
       "      <td></td>\n",
       "    </tr>\n",
       "    <tr>\n",
       "      <th>21</th>\n",
       "      <td>Samarai</td>\n",
       "      <td>PG</td>\n",
       "      <td>80.20</td>\n",
       "      <td>-10.6167</td>\n",
       "      <td>150.6667</td>\n",
       "      <td></td>\n",
       "    </tr>\n",
       "    <tr>\n",
       "      <th>25</th>\n",
       "      <td>Daru</td>\n",
       "      <td>PG</td>\n",
       "      <td>79.09</td>\n",
       "      <td>-9.0763</td>\n",
       "      <td>143.2092</td>\n",
       "      <td></td>\n",
       "    </tr>\n",
       "    <tr>\n",
       "      <th>30</th>\n",
       "      <td>Atuona</td>\n",
       "      <td>PF</td>\n",
       "      <td>80.04</td>\n",
       "      <td>-9.8000</td>\n",
       "      <td>-139.0333</td>\n",
       "      <td></td>\n",
       "    </tr>\n",
       "    <tr>\n",
       "      <th>31</th>\n",
       "      <td>Labuhan</td>\n",
       "      <td>ID</td>\n",
       "      <td>87.13</td>\n",
       "      <td>-6.8844</td>\n",
       "      <td>112.2051</td>\n",
       "      <td></td>\n",
       "    </tr>\n",
       "  </tbody>\n",
       "</table>\n",
       "</div>"
      ],
      "text/plain": [
       "           City Country  Max Temp      Lat       Lng Hotel Name\n",
       "0      Bengkulu      ID     76.98  -3.8004  102.2655           \n",
       "6   Santa Marta      CO     86.05  11.2408  -74.1990           \n",
       "11       Padang      ID     84.25  -0.9492  100.3543           \n",
       "15      Wahiawa      US     79.12  21.5028 -158.0236           \n",
       "16     Buchanan      LR     75.16   5.8808  -10.0467           \n",
       "18    Kavaratti      IN     82.56  10.5669   72.6420           \n",
       "21      Samarai      PG     80.20 -10.6167  150.6667           \n",
       "25         Daru      PG     79.09  -9.0763  143.2092           \n",
       "30       Atuona      PF     80.04  -9.8000 -139.0333           \n",
       "31      Labuhan      ID     87.13  -6.8844  112.2051           "
      ]
     },
     "execution_count": 22,
     "metadata": {},
     "output_type": "execute_result"
    }
   ],
   "source": [
    "# Create DataFrame called hotel_df to store hotel names along with city, country, max temp, and coordinates.\n",
    "hotel_df = preferred_cities_df[[\"City\", \"Country\", \"Max Temp\", \"Lat\", \"Lng\"]].copy()\n",
    "hotel_df[\"Hotel Name\"] = \"\"\n",
    "hotel_df.head(10)"
   ]
  },
  {
   "cell_type": "code",
   "execution_count": 23,
   "id": "541bf05f",
   "metadata": {},
   "outputs": [],
   "source": [
    "# Set parameters to search for a hotel.\n",
    "params = {\n",
    "    \"radius\": 5000,\n",
    "    \"type\": \"lodging\",\n",
    "    \"key\": g_key\n",
    "}"
   ]
  },
  {
   "cell_type": "code",
   "execution_count": 25,
   "id": "19c1b861",
   "metadata": {},
   "outputs": [
    {
     "name": "stdout",
     "output_type": "stream",
     "text": [
      "Hotel not found... skipping.\n",
      "Hotel not found... skipping.\n",
      "Hotel not found... skipping.\n",
      "Hotel not found... skipping.\n",
      "Hotel not found... skipping.\n",
      "Hotel not found... skipping.\n",
      "Hotel not found... skipping.\n",
      "Hotel not found... skipping.\n",
      "Hotel not found... skipping.\n",
      "Hotel not found... skipping.\n",
      "Hotel not found... skipping.\n",
      "Hotel not found... skipping.\n",
      "Hotel not found... skipping.\n"
     ]
    }
   ],
   "source": [
    "# Iterate through the DataFrame.\n",
    "for index, row in hotel_df.iterrows():\n",
    "    # Get the latitude and longitude.\n",
    "    lat = row[\"Lat\"]\n",
    "    lng = row[\"Lng\"]\n",
    "\n",
    "    # Add the latitude and longitude to location key for the params dictionary.\n",
    "    params[\"location\"] = f\"{lat},{lng}\"\n",
    "\n",
    "    # Use the search term: \"lodging\" and our latitude and longitude.\n",
    "    base_url = \"https://maps.googleapis.com/maps/api/place/nearbysearch/json\"\n",
    "    # Make request and get the JSON data from the search.\n",
    "    hotels = requests.get(base_url, params=params).json()\n",
    "    # Grab the first hotel from the results and store the name.\n",
    "  #  hotel_df.loc[index, \"Hotel Name\"] = hotels[\"results\"][0][\"name\"]\n",
    "    # Grab the first hotel from the results and store the name.\n",
    "    try:\n",
    "        hotel_df.loc[index, \"Hotel Name\"] = hotels[\"results\"][0][\"name\"]\n",
    "    except (IndexError):\n",
    "        print(\"Hotel not found... skipping.\")\n"
   ]
  },
  {
   "cell_type": "code",
   "execution_count": 26,
   "id": "525ec02b",
   "metadata": {},
   "outputs": [
    {
     "data": {
      "text/html": [
       "<div>\n",
       "<style scoped>\n",
       "    .dataframe tbody tr th:only-of-type {\n",
       "        vertical-align: middle;\n",
       "    }\n",
       "\n",
       "    .dataframe tbody tr th {\n",
       "        vertical-align: top;\n",
       "    }\n",
       "\n",
       "    .dataframe thead th {\n",
       "        text-align: right;\n",
       "    }\n",
       "</style>\n",
       "<table border=\"1\" class=\"dataframe\">\n",
       "  <thead>\n",
       "    <tr style=\"text-align: right;\">\n",
       "      <th></th>\n",
       "      <th>City</th>\n",
       "      <th>Country</th>\n",
       "      <th>Max Temp</th>\n",
       "      <th>Lat</th>\n",
       "      <th>Lng</th>\n",
       "      <th>Hotel Name</th>\n",
       "    </tr>\n",
       "  </thead>\n",
       "  <tbody>\n",
       "    <tr>\n",
       "      <th>0</th>\n",
       "      <td>Bengkulu</td>\n",
       "      <td>ID</td>\n",
       "      <td>76.98</td>\n",
       "      <td>-3.8004</td>\n",
       "      <td>102.2655</td>\n",
       "      <td>Grage Hotel Bengkulu</td>\n",
       "    </tr>\n",
       "    <tr>\n",
       "      <th>6</th>\n",
       "      <td>Santa Marta</td>\n",
       "      <td>CO</td>\n",
       "      <td>86.05</td>\n",
       "      <td>11.2408</td>\n",
       "      <td>-74.1990</td>\n",
       "      <td>Casa de Isabella</td>\n",
       "    </tr>\n",
       "    <tr>\n",
       "      <th>11</th>\n",
       "      <td>Padang</td>\n",
       "      <td>ID</td>\n",
       "      <td>84.25</td>\n",
       "      <td>-0.9492</td>\n",
       "      <td>100.3543</td>\n",
       "      <td>Mercure Padang</td>\n",
       "    </tr>\n",
       "    <tr>\n",
       "      <th>15</th>\n",
       "      <td>Wahiawa</td>\n",
       "      <td>US</td>\n",
       "      <td>79.12</td>\n",
       "      <td>21.5028</td>\n",
       "      <td>-158.0236</td>\n",
       "      <td>Aloha Wahiawa</td>\n",
       "    </tr>\n",
       "    <tr>\n",
       "      <th>16</th>\n",
       "      <td>Buchanan</td>\n",
       "      <td>LR</td>\n",
       "      <td>75.16</td>\n",
       "      <td>5.8808</td>\n",
       "      <td>-10.0467</td>\n",
       "      <td>Kamaneahn Hotel Inc</td>\n",
       "    </tr>\n",
       "    <tr>\n",
       "      <th>18</th>\n",
       "      <td>Kavaratti</td>\n",
       "      <td>IN</td>\n",
       "      <td>82.56</td>\n",
       "      <td>10.5669</td>\n",
       "      <td>72.6420</td>\n",
       "      <td>Hotels in Lakshadweep Islands</td>\n",
       "    </tr>\n",
       "    <tr>\n",
       "      <th>21</th>\n",
       "      <td>Samarai</td>\n",
       "      <td>PG</td>\n",
       "      <td>80.20</td>\n",
       "      <td>-10.6167</td>\n",
       "      <td>150.6667</td>\n",
       "      <td>Nuli Sapi</td>\n",
       "    </tr>\n",
       "    <tr>\n",
       "      <th>25</th>\n",
       "      <td>Daru</td>\n",
       "      <td>PG</td>\n",
       "      <td>79.09</td>\n",
       "      <td>-9.0763</td>\n",
       "      <td>143.2092</td>\n",
       "      <td>Daru Lodge</td>\n",
       "    </tr>\n",
       "    <tr>\n",
       "      <th>30</th>\n",
       "      <td>Atuona</td>\n",
       "      <td>PF</td>\n",
       "      <td>80.04</td>\n",
       "      <td>-9.8000</td>\n",
       "      <td>-139.0333</td>\n",
       "      <td>Villa Enata</td>\n",
       "    </tr>\n",
       "    <tr>\n",
       "      <th>31</th>\n",
       "      <td>Labuhan</td>\n",
       "      <td>ID</td>\n",
       "      <td>87.13</td>\n",
       "      <td>-6.8844</td>\n",
       "      <td>112.2051</td>\n",
       "      <td>PT PPI Lamongan Tambak C</td>\n",
       "    </tr>\n",
       "  </tbody>\n",
       "</table>\n",
       "</div>"
      ],
      "text/plain": [
       "           City Country  Max Temp      Lat       Lng  \\\n",
       "0      Bengkulu      ID     76.98  -3.8004  102.2655   \n",
       "6   Santa Marta      CO     86.05  11.2408  -74.1990   \n",
       "11       Padang      ID     84.25  -0.9492  100.3543   \n",
       "15      Wahiawa      US     79.12  21.5028 -158.0236   \n",
       "16     Buchanan      LR     75.16   5.8808  -10.0467   \n",
       "18    Kavaratti      IN     82.56  10.5669   72.6420   \n",
       "21      Samarai      PG     80.20 -10.6167  150.6667   \n",
       "25         Daru      PG     79.09  -9.0763  143.2092   \n",
       "30       Atuona      PF     80.04  -9.8000 -139.0333   \n",
       "31      Labuhan      ID     87.13  -6.8844  112.2051   \n",
       "\n",
       "                       Hotel Name  \n",
       "0            Grage Hotel Bengkulu  \n",
       "6                Casa de Isabella  \n",
       "11                 Mercure Padang  \n",
       "15                  Aloha Wahiawa  \n",
       "16            Kamaneahn Hotel Inc  \n",
       "18  Hotels in Lakshadweep Islands  \n",
       "21                      Nuli Sapi  \n",
       "25                     Daru Lodge  \n",
       "30                    Villa Enata  \n",
       "31       PT PPI Lamongan Tambak C  "
      ]
     },
     "execution_count": 26,
     "metadata": {},
     "output_type": "execute_result"
    }
   ],
   "source": [
    "hotel_df.head(10)"
   ]
  },
  {
   "cell_type": "code",
   "execution_count": 27,
   "id": "d9399302",
   "metadata": {},
   "outputs": [
    {
     "data": {
      "application/vnd.jupyter.widget-view+json": {
       "model_id": "58bb378858d94eeabd68940bc0a9a394",
       "version_major": 2,
       "version_minor": 0
      },
      "text/plain": [
       "Figure(layout=FigureLayout(height='420px'))"
      ]
     },
     "metadata": {},
     "output_type": "display_data"
    }
   ],
   "source": [
    "# Add a heatmap of temperature for the vacation spots.\n",
    "locations = hotel_df[[\"Lat\", \"Lng\"]]\n",
    "max_temp = hotel_df[\"Max Temp\"]\n",
    "fig = gmaps.figure(center=(30.0, 31.0), zoom_level=1.5)\n",
    "heat_layer = gmaps.heatmap_layer(locations, weights=max_temp, dissipating=False,\n",
    "             max_intensity=300, point_radius=4)\n",
    "\n",
    "fig.add_layer(heat_layer)\n",
    "# Call the figure to plot the data.\n",
    "fig"
   ]
  },
  {
   "cell_type": "code",
   "execution_count": 28,
   "id": "aad02296",
   "metadata": {},
   "outputs": [
    {
     "data": {
      "application/vnd.jupyter.widget-view+json": {
       "model_id": "56f9adf5d8e14d16b7193f35f407b770",
       "version_major": 2,
       "version_minor": 0
      },
      "text/plain": [
       "Figure(layout=FigureLayout(height='420px'))"
      ]
     },
     "metadata": {},
     "output_type": "display_data"
    }
   ],
   "source": [
    "# Add a heatmap of temperature for the vacation spots and marker for each city.\n",
    "locations = hotel_df[[\"Lat\", \"Lng\"]]\n",
    "max_temp = hotel_df[\"Max Temp\"]\n",
    "fig = gmaps.figure(center=(30.0, 31.0), zoom_level=1.5)\n",
    "heat_layer = gmaps.heatmap_layer(locations, weights=max_temp,\n",
    "             dissipating=False, max_intensity=300, point_radius=4)\n",
    "marker_layer = gmaps.marker_layer(locations)\n",
    "fig.add_layer(heat_layer)\n",
    "fig.add_layer(marker_layer)\n",
    "# Call the figure to plot the data.\n",
    "fig"
   ]
  },
  {
   "cell_type": "code",
   "execution_count": 29,
   "id": "99c2cc0f",
   "metadata": {},
   "outputs": [],
   "source": [
    "info_box_template = \"\"\"\n",
    "<dl>\n",
    "<dt>Hotel Name</dt><dd>{Hotel Name}</dd>\n",
    "<dt>City</dt><dd>{City}</dd>\n",
    "<dt>Country</dt><dd>{Country}</dd>\n",
    "<dt>Max Temp</dt><dd>{Max Temp} °F</dd>\n",
    "</dl>\n",
    "\"\"\""
   ]
  },
  {
   "cell_type": "code",
   "execution_count": 30,
   "id": "3c438054",
   "metadata": {},
   "outputs": [],
   "source": [
    "# Store the DataFrame Row.\n",
    "hotel_info = [info_box_template.format(**row) for index, row in hotel_df.iterrows()]\n"
   ]
  },
  {
   "cell_type": "code",
   "execution_count": 31,
   "id": "ce429b5c",
   "metadata": {},
   "outputs": [
    {
     "data": {
      "application/vnd.jupyter.widget-view+json": {
       "model_id": "a1bc5d4a35b64bff84b236396a1fd231",
       "version_major": 2,
       "version_minor": 0
      },
      "text/plain": [
       "Figure(layout=FigureLayout(height='420px'))"
      ]
     },
     "metadata": {},
     "output_type": "display_data"
    }
   ],
   "source": [
    "# Add a heatmap of temperature for the vacation spots and a pop-up marker for each city.\n",
    "locations = hotel_df[[\"Lat\", \"Lng\"]]\n",
    "max_temp = hotel_df[\"Max Temp\"]\n",
    "fig = gmaps.figure(center=(30.0, 31.0), zoom_level=1.5)\n",
    "heat_layer = gmaps.heatmap_layer(locations, weights=max_temp,dissipating=False,\n",
    "             max_intensity=300, point_radius=4)\n",
    "marker_layer = gmaps.marker_layer(locations, info_box_content=hotel_info)\n",
    "fig.add_layer(heat_layer)\n",
    "fig.add_layer(marker_layer)\n",
    "\n",
    "# Call the figure to plot the data.\n",
    "fig"
   ]
  },
  {
   "cell_type": "code",
   "execution_count": null,
   "id": "61bdf5a0",
   "metadata": {},
   "outputs": [],
   "source": []
  }
 ],
 "metadata": {
  "kernelspec": {
   "display_name": "PythonData",
   "language": "python",
   "name": "pythondata"
  },
  "language_info": {
   "codemirror_mode": {
    "name": "ipython",
    "version": 3
   },
   "file_extension": ".py",
   "mimetype": "text/x-python",
   "name": "python",
   "nbconvert_exporter": "python",
   "pygments_lexer": "ipython3",
   "version": "3.8.8"
  }
 },
 "nbformat": 4,
 "nbformat_minor": 5
}
